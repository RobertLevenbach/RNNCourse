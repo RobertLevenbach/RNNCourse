{
 "cells": [
  {
   "cell_type": "code",
   "execution_count": 1,
   "metadata": {},
   "outputs": [
    {
     "name": "stdout",
     "output_type": "stream",
     "text": [
      "Ipython: 7.6.1\n",
      "Numpy: 1.16.4\n",
      "Scipy: 1.2.1\n",
      "Matplotlib: 3.1.0\n",
      "Sklearn: 0.21.2\n",
      "Seaborn: 0.9.0\n",
      "Pandas: 0.24.2\n"
     ]
    },
    {
     "name": "stderr",
     "output_type": "stream",
     "text": [
      "Using TensorFlow backend.\n"
     ]
    },
    {
     "name": "stdout",
     "output_type": "stream",
     "text": [
      "keras: 2.3.0\n",
      "Tensorflow: 1.14.0\n"
     ]
    }
   ],
   "source": [
    "from __future__ import print_function\n",
    "\n",
    "import IPython\n",
    "print('Ipython:', IPython.__version__)\n",
    "import numpy \n",
    "print(\"Numpy:\", numpy.__version__)\n",
    "import scipy\n",
    "print(\"Scipy:\", scipy.__version__)\n",
    "import matplotlib\n",
    "print(\"Matplotlib:\", matplotlib.__version__)\n",
    "import sklearn\n",
    "print(\"Sklearn:\", sklearn.__version__)\n",
    "import seaborn\n",
    "print(\"Seaborn:\", seaborn.__version__)\n",
    "import pandas\n",
    "print(\"Pandas:\", pandas.__version__)\n",
    "import keras\n",
    "print(\"keras:\", keras.__version__)\n",
    "import tensorflow\n",
    "print(\"Tensorflow:\", tensorflow.__version__)"
   ]
  },
  {
   "cell_type": "code",
   "execution_count": null,
   "metadata": {},
   "outputs": [],
   "source": []
  },
  {
   "cell_type": "code",
   "execution_count": null,
   "metadata": {},
   "outputs": [],
   "source": []
  }
 ],
 "metadata": {
  "kernelspec": {
   "display_name": "Python 3",
   "language": "python",
   "name": "python3"
  },
  "language_info": {
   "codemirror_mode": {
    "name": "ipython",
    "version": 3
   },
   "file_extension": ".py",
   "mimetype": "text/x-python",
   "name": "python",
   "nbconvert_exporter": "python",
   "pygments_lexer": "ipython3",
   "version": "3.7.3"
  }
 },
 "nbformat": 4,
 "nbformat_minor": 2
}
